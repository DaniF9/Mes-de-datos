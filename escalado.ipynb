{
 "cells": [
  {
   "attachments": {},
   "cell_type": "markdown",
   "metadata": {},
   "source": [
    "Escalado de características\n",
    "Normalizar o estandarizar son técnicas muy similares que cambian el rango de valores que tiene una característica. De este modo, los modelos aprenden más rápido y con mayor solidez.\n",
    "\n",
    "Ambos procesos se denominan comúnmente escalado de características.\n",
    "\n",
    "En este ejercicio utilizaremos un conjunto de datos de adiestramiento de perros para predecir cuántos rescates realizará un perro en un año determinado, basándonos en la edad que tenían cuando comenzó su adiestramiento.\n",
    "\n",
    "Entrenaremos modelos con y sin escalado de características y compararemos su comportamiento y resultados.\n",
    "\n",
    "Pero primero, vamos a cargar nuestro conjunto de datos e inspeccionarlo:\n"
   ]
  },
  {
   "cell_type": "code",
   "execution_count": 26,
   "metadata": {},
   "outputs": [
    {
     "data": {
      "text/html": [
       "<div>\n",
       "<style scoped>\n",
       "    .dataframe tbody tr th:only-of-type {\n",
       "        vertical-align: middle;\n",
       "    }\n",
       "\n",
       "    .dataframe tbody tr th {\n",
       "        vertical-align: top;\n",
       "    }\n",
       "\n",
       "    .dataframe thead th {\n",
       "        text-align: right;\n",
       "    }\n",
       "</style>\n",
       "<table border=\"1\" class=\"dataframe\">\n",
       "  <thead>\n",
       "    <tr style=\"text-align: right;\">\n",
       "      <th></th>\n",
       "      <th>month_old_when_trained</th>\n",
       "      <th>mean_rescues_per_year</th>\n",
       "      <th>age_last_year</th>\n",
       "      <th>weight_last_year</th>\n",
       "      <th>rescues_last_year</th>\n",
       "    </tr>\n",
       "  </thead>\n",
       "  <tbody>\n",
       "    <tr>\n",
       "      <th>0</th>\n",
       "      <td>68</td>\n",
       "      <td>21.1</td>\n",
       "      <td>9</td>\n",
       "      <td>14.5</td>\n",
       "      <td>35</td>\n",
       "    </tr>\n",
       "    <tr>\n",
       "      <th>1</th>\n",
       "      <td>53</td>\n",
       "      <td>14.9</td>\n",
       "      <td>5</td>\n",
       "      <td>14.0</td>\n",
       "      <td>30</td>\n",
       "    </tr>\n",
       "    <tr>\n",
       "      <th>2</th>\n",
       "      <td>41</td>\n",
       "      <td>20.5</td>\n",
       "      <td>6</td>\n",
       "      <td>17.7</td>\n",
       "      <td>34</td>\n",
       "    </tr>\n",
       "    <tr>\n",
       "      <th>3</th>\n",
       "      <td>3</td>\n",
       "      <td>19.4</td>\n",
       "      <td>1</td>\n",
       "      <td>13.7</td>\n",
       "      <td>29</td>\n",
       "    </tr>\n",
       "    <tr>\n",
       "      <th>4</th>\n",
       "      <td>4</td>\n",
       "      <td>24.9</td>\n",
       "      <td>4</td>\n",
       "      <td>18.4</td>\n",
       "      <td>30</td>\n",
       "    </tr>\n",
       "  </tbody>\n",
       "</table>\n",
       "</div>"
      ],
      "text/plain": [
       "   month_old_when_trained  mean_rescues_per_year  age_last_year  \\\n",
       "0                      68                   21.1              9   \n",
       "1                      53                   14.9              5   \n",
       "2                      41                   20.5              6   \n",
       "3                       3                   19.4              1   \n",
       "4                       4                   24.9              4   \n",
       "\n",
       "   weight_last_year  rescues_last_year  \n",
       "0              14.5                 35  \n",
       "1              14.0                 30  \n",
       "2              17.7                 34  \n",
       "3              13.7                 29  \n",
       "4              18.4                 30  "
      ]
     },
     "execution_count": 26,
     "metadata": {},
     "output_type": "execute_result"
    }
   ],
   "source": [
    "from graphing import *\n",
    "import pandas\n",
    "import wget  #aqui importamos wget guardamos la url en una variable y lo descargamos \n",
    "site_url = 'https://raw.githubusercontent.com/MicrosoftDocs/mslearn-introduction-to-machine-learning/main/m1b_gradient_descent.py'\n",
    "file_name = wget.download(site_url)\n",
    "\n",
    "url2 = 'https://raw.githubusercontent.com/MicrosoftDocs/mslearn-introduction-to-machine-learning/main/graphing.py'\n",
    "file_name = wget.download(url2)\n",
    "\n",
    "\n",
    "#!wget https://raw.githubusercontent.com/MicrosoftDocs/mslearn-introduction-to-machine-learning/main/graphing.py\n",
    "#!wget https://raw.githubusercontent.com/MicrosoftDocs/mslearn-introduction-to-machine-learning/main/Data/dog-training.csv\n",
    "#!wget https://raw.githubusercontent.com/MicrosoftDocs/mslearn-introduction-to-machine-learning/main/m1b_gradient_descent.py\n",
    "\n",
    "\n",
    "url = 'https://raw.githubusercontent.com/MicrosoftDocs/mslearn-introduction-to-machine-learning/main/Data/dog-training.csv'\n",
    "#data = pandas.read_csv(\"dog-training.csv\", delimiter=\"\\t\")\n",
    "data = pandas.read_csv(url,delimiter=\"\\t\")\n",
    "data.head()"
   ]
  },
  {
   "attachments": {},
   "cell_type": "markdown",
   "metadata": {},
   "source": [
    "El conjunto de datos anterior nos dice a qué edad empezó a entrenar un perro, cuántos rescates, de media, ha realizado al año, y otras estadísticas, como qué edad tenía el año pasado, su peso y cuántos rescates realizó en ese periodo.\n",
    "\n",
    "Obsérvese que también tenemos variables expresadas en distintas unidades, como mes*viejo_cuando_entrenó en meses, edad*último*año en años y peso*último_año en kilogramos.\n",
    "\n",
    "Tener características en rangos y unidades muy diferentes es un buen indicador de que un modelo puede beneficiarse del escalado de características.\n",
    "\n",
    "En primer lugar, vamos a entrenar nuestro modelo utilizando el conjunto de datos \"tal cual\":\n"
   ]
  },
  {
   "cell_type": "code",
   "execution_count": 86,
   "metadata": {},
   "outputs": [
    {
     "name": "stdout",
     "output_type": "stream",
     "text": [
      "Iteration 0  Current estimate: y = 0.6551939999999999 * x + 0.01989 Cost: 285.7519204585047\n",
      "Iteration 100  Current estimate: y = 0.37017703051219436 * x + 0.6317811959477302 Cost: 151.3711059205156\n",
      "Iteration 200  Current estimate: y = 0.35765990734380276 * x + 1.233468946326008 Cost: 144.12794309730637\n",
      "Iteration 300  Current estimate: y = 0.3454643601625017 * x + 1.819698805170826 Cost: 137.252166173823\n",
      "Iteration 400  Current estimate: y = 0.33358212739619614 * x + 2.390867899414735 Cost: 130.7251406940121\n",
      "Iteration 500  Current estimate: y = 0.3220051597199002 * x + 2.947363153447446 Cost: 124.52917737405625\n",
      "Iteration 600  Current estimate: y = 0.3107256146029201 * x + 3.4895615512281988 Cost: 118.64748416158396\n",
      "Iteration 700  Current estimate: y = 0.29973585099612604 * x + 4.01783039166423 Cost: 113.06412072651936\n",
      "Iteration 800  Current estimate: y = 0.2890284241557118 * x + 4.532527537428349 Cost: 107.76395526023639\n",
      "Iteration 900  Current estimate: y = 0.27859608059993735 * x + 5.03400165738414 Cost: 102.73262346593542\n",
      "Iteration 1000  Current estimate: y = 0.2684317531954367 * x + 5.522592462783106 Cost: 97.95648962909934\n",
      "Iteration 1100  Current estimate: y = 0.25852855636976285 * x + 5.998630937393628 Cost: 93.42260966252485\n",
      "Iteration 1200  Current estimate: y = 0.24887978144692743 * x + 6.462439561717758 Cost: 89.11869602577409\n",
      "Iteration 1300  Current estimate: y = 0.23947889210277318 * x + 6.914332531447663 Cost: 85.0330844239732\n",
      "Iteration 1400  Current estimate: y = 0.2303195199371034 * x + 7.354615970309726 Cost: 81.15470219570629\n",
      "Iteration 1500  Current estimate: y = 0.22139546015956607 * x + 7.7835881374405105 Cost: 77.47303830433046\n",
      "Iteration 1600  Current estimate: y = 0.21270066738637206 * x + 8.201539629435041 Cost: 73.97811485138402\n",
      "Iteration 1700  Current estimate: y = 0.20422925154499919 * x + 8.608753577204295 Cost: 70.66046003488451\n",
      "Iteration 1800  Current estimate: y = 0.19597547388410835 * x + 9.005505837775218 Cost: 67.51108247922933\n",
      "Iteration 1900  Current estimate: y = 0.18793374308596855 * x + 9.392065181163254 Cost: 64.52144686712867\n",
      "Iteration 2000  Current estimate: y = 0.18009861147875597 * x + 9.768693472443973 Cost: 61.68345080752916\n",
      "Iteration 2100  Current estimate: y = 0.17246477134616384 * x + 10.135645849147087 Cost: 58.98940287683734\n",
      "Iteration 2200  Current estimate: y = 0.16502705133182075 * x + 10.49317089409308 Cost: 56.43200177393041\n",
      "Iteration 2300  Current estimate: y = 0.15778041293608433 * x + 10.841510803789433 Cost: 54.00431653246198\n",
      "Iteration 2400  Current estimate: y = 0.15071994710283232 * x + 11.180901552500751 Cost: 51.699767736833195\n",
      "Iteration 2500  Current estimate: y = 0.14384087089394534 * x + 11.51157305210364 Cost: 49.51210969092377\n",
      "Iteration 2600  Current estimate: y = 0.13713852424922274 * x + 11.83374930783484 Cost: 47.435413491255616\n",
      "Iteration 2700  Current estimate: y = 0.13060836682954005 * x + 12.147648570038065 Cost: 45.46405095871516\n",
      "Iteration 2800  Current estimate: y = 0.1242459749411091 * x + 12.453483482012256 Cost: 43.59267938528758\n",
      "Iteration 2900  Current estimate: y = 0.11804703853875538 * x + 12.75146122406156 Cost: 41.81622705446246\n",
      "Iteration 3000  Current estimate: y = 0.1120073583061843 * x + 13.041783653844513 Cost: 40.12987949607034\n",
      "Iteration 3100  Current estimate: y = 0.10612284281125836 * x + 13.324647443117522 Cost: 38.52906643829785\n",
      "Iteration 3200  Current estimate: y = 0.10038950573435822 * x + 13.600244210965243 Cost: 37.00944942151988\n",
      "Iteration 3300  Current estimate: y = 0.0948034631679476 * x + 13.86876065360826 Cost: 35.56691004037906\n",
      "Iteration 3400  Current estimate: y = 0.0893609309855168 * x + 14.130378670875809 Cost: 34.19753878224823\n",
      "Iteration 3500  Current estimate: y = 0.08405822227812025 * x + 14.385275489429269 Cost: 32.89762443182565\n",
      "Iteration 3600  Current estimate: y = 0.07889174485677009 * x + 14.633623782820067 Cost: 31.663644013147078\n",
      "Iteration 3700  Current estimate: y = 0.07385799881899743 * x + 14.875591788463032 Cost: 30.49225324175739\n",
      "Iteration 3800  Current estimate: y = 0.06895357417792916 * x + 15.111343421604744 Cost: 29.380277461164045\n",
      "Iteration 3900  Current estimate: y = 0.06417514855227718 * x + 15.341038386363806 Cost: 28.324703039010114\n",
      "Iteration 4000  Current estimate: y = 0.05951948491567278 * x + 15.564832283918504 Cost: 27.32266919964799\n",
      "Iteration 4100  Current estimate: y = 0.05498342940382368 * x + 15.782876717914935 Cost: 26.371460270979636\n",
      "Iteration 4200  Current estimate: y = 0.05056390917800589 * x + 15.995319397167195 Cost: 25.468498324550364\n",
      "Iteration 4300  Current estimate: y = 0.04625793034344588 * x + 16.202304235719033 Cost: 24.61133618895016\n",
      "Iteration 4400  Current estimate: y = 0.04206257592117959 * x + 16.403971450334883 Cost: 23.797650817587442\n",
      "Iteration 4500  Current estimate: y = 0.03797500387201801 * x + 16.600457655486228 Cost: 23.025236992860947\n",
      "Iteration 4600  Current estimate: y = 0.03399244517127737 * x + 16.791895955897715 Cost: 22.292001349667036\n",
      "Iteration 4700  Current estimate: y = 0.03011220193297242 * x + 16.97841603671564 Cost: 21.595956702045257\n",
      "Iteration 4800  Current estimate: y = 0.026331645582198727 * x + 17.160144251360002 Cost: 20.935216657586064\n",
      "Iteration 4900  Current estimate: y = 0.022648215074472025 * x + 17.337203707119407 Cost: 20.307990505005847\n",
      "Iteration 5000  Current estimate: y = 0.019059415160809598 * x + 17.50971434854716 Cost: 19.712578361032318\n",
      "Iteration 5100  Current estimate: y = 0.015562814697386552 * x + 17.677793038714672 Cost: 19.147366563448994\n",
      "Iteration 5200  Current estimate: y = 0.01215604499861769 * x + 17.841553638377494 Cost: 18.610823297812168\n",
      "Iteration 5300  Current estimate: y = 0.008836798232548777 * x + 18.001107083107485 Cost: 18.101494445988557\n",
      "Iteration 5400  Current estimate: y = 0.005602825857475188 * x + 18.156561458443285 Cost: 17.61799964526266\n",
      "Iteration 5500  Current estimate: y = 0.002451937098720467 * x + 18.308022073110305 Cost: 17.159028547332532\n",
      "Iteration 5600  Current estimate: y = -0.0006180025354489446 * x + 18.455591530359474 Cost: 16.723337267056227\n",
      "Iteration 5700  Current estimate: y = -0.0036090726997821156 * x + 18.599369797473273 Cost: 16.309745011324004\n",
      "Iteration 5800  Current estimate: y = -0.006523299620854942 * x + 18.7394542734861 Cost: 15.91713087892002\n",
      "Iteration 5900  Current estimate: y = -0.009362657469686548 * x + 18.875939855164848 Cost: 15.544430822700528\n",
      "Iteration 6000  Current estimate: y = -0.012129069699092871 * x + 19.00891900129435 Cost: 15.190634765855933\n",
      "Iteration 6100  Current estimate: y = -0.014824410346682842 * x + 19.138481795311336 Cost: 14.854783864440767\n",
      "Iteration 6200  Current estimate: y = -0.01745050530437757 * x + 19.26471600632918 Cost: 14.535967908753351\n",
      "Iteration 6300  Current estimate: y = -0.020009133555317988 * x + 19.387707148595023 Cost: 14.233322856521475\n",
      "Iteration 6400  Current estimate: y = -0.0225020283789903 * x + 19.507538539419137 Cost: 13.946028491209917\n",
      "Iteration 6500  Current estimate: y = -0.024930878525395363 * x + 19.624291355616297 Cost: 13.673306199102067\n",
      "Iteration 6600  Current estimate: y = -0.027297329359049917 * x + 19.738044688496974 Cost: 13.414416859132203\n",
      "Iteration 6700  Current estimate: y = -0.029602983973597438 * x + 19.848875597445733 Cost: 13.16865883974921\n",
      "Iteration 6800  Current estimate: y = -0.031849404277785875 * x + 19.95685916212332 Cost: 12.935366097382541\n",
      "Iteration 6900  Current estimate: y = -0.034038112053542804 * x + 20.06206853332741 Cost: 12.713906371357744\n",
      "Iteration 7000  Current estimate: y = -0.03617058998686888 * x + 20.16457498254686 Cost: 12.503679470368743\n",
      "Iteration 7100  Current estimate: y = -0.03824828267224864 * x + 20.264447950242857 Cost: 12.304115645863241\n",
      "Iteration 7200  Current estimate: y = -0.04027259759125314 * x + 20.36175509288956 Cost: 12.114674047933109\n",
      "Iteration 7300  Current estimate: y = -0.04224490606600518 * x + 20.45656232880638 Cost: 11.934841259524408\n",
      "Iteration 7400  Current estimate: y = -0.04416654418814607 * x + 20.548933882812644 Cost: 11.764129904995157\n",
      "Iteration 7500  Current estimate: y = -0.04603881372394046 * x + 20.63893232973523 Cost: 11.602077329249084\n",
      "Iteration 7600  Current estimate: y = -0.04786298299612151 * x + 20.72661863679814 Cost: 11.448244343866628\n",
      "Iteration 7700  Current estimate: y = -0.049640287743089706 * x + 20.81205220492347 Cost: 11.302214036833613\n",
      "Iteration 7800  Current estimate: y = -0.0513719319560293 * x + 20.89529090897092 Cost: 11.163590642643264\n",
      "Iteration 7900  Current estimate: y = -0.053059088694525074 * x + 20.976391136943796 Cost: 11.031998469708142\n",
      "Maximum number of iterations reached. Stopping training\n"
     ]
    }
   ],
   "source": [
    "from m1b_gradient_descent import gradient_descent\n",
    "import numpy\n",
    "import graphing\n",
    "\n",
    "\n",
    "\n",
    "# Train model using Gradient Descent\n",
    "# This method uses custom code that will print out progress as training advances.\n",
    "# You don't need to inspect how this works for these exercises, but if you are\n",
    "# curious, you can find it in out GitHub repository\n",
    "model = gradient_descent(data.month_old_when_trained, data.mean_rescues_per_year, learning_rate=5E-4, number_of_iterations=8000)\n"
   ]
  },
  {
   "attachments": {},
   "cell_type": "markdown",
   "metadata": {},
   "source": [
    "Análisis del entrenamiento\n",
    "Como puede ver en la salida anterior, estamos imprimiendo una estimación de los pesos y el coste calculado en cada iteración.\n",
    "\n",
    "La última línea de la salida muestra que el modelo dejó de entrenarse porque alcanzó el número máximo de iteraciones permitido, pero el coste podría ser menor si lo hubiéramos dejado correr más tiempo.\n",
    "\n",
    "Tracemos el modelo al final de este entrenamiento:\n"
   ]
  },
  {
   "cell_type": "code",
   "execution_count": 4,
   "metadata": {},
   "outputs": [],
   "source": [
    "from PIL import Image\n",
    "imagen = Image.open('1.png')\n",
    "imagen.show()\n",
    "#me causa un error graficarla con la linea graphing descargue la imgane y la abri \n",
    "# Plot the data and trendline after training\n",
    "#graphing.scatter_2D(data, \"month_old_when_trained\", \"mean_rescues_per_year\", trendline=model.predict)"
   ]
  },
  {
   "attachments": {},
   "cell_type": "markdown",
   "metadata": {},
   "source": [
    "El gráfico anterior nos dice que cuanto más joven empieza a entrenarse un perro, más rescates realiza en un año.\n",
    "\n",
    "Obsérvese que no se ajusta muy bien a los datos (la mayoría de los puntos están por encima de la línea). Esto se debe a que el adiestramiento se interrumpió pronto, antes de que el modelo pudiera encontrar los pesos óptimos.\n",
    "\n",
    "Normalización de los datos\n",
    "Utilicemos la estandarización como forma de escalado de características para este modelo, aplicándola a la característica month_old_when_trained:\n"
   ]
  },
  {
   "cell_type": "code",
   "execution_count": 52,
   "metadata": {},
   "outputs": [
    {
     "data": {
      "text/html": [
       "<div>\n",
       "<style scoped>\n",
       "    .dataframe tbody tr th:only-of-type {\n",
       "        vertical-align: middle;\n",
       "    }\n",
       "\n",
       "    .dataframe tbody tr th {\n",
       "        vertical-align: top;\n",
       "    }\n",
       "\n",
       "    .dataframe thead th {\n",
       "        text-align: right;\n",
       "    }\n",
       "</style>\n",
       "<table border=\"1\" class=\"dataframe\">\n",
       "  <thead>\n",
       "    <tr style=\"text-align: right;\">\n",
       "      <th></th>\n",
       "      <th>month_old_when_trained</th>\n",
       "      <th>mean_rescues_per_year</th>\n",
       "      <th>age_last_year</th>\n",
       "      <th>weight_last_year</th>\n",
       "      <th>rescues_last_year</th>\n",
       "      <th>standardized_age_when_trained</th>\n",
       "    </tr>\n",
       "  </thead>\n",
       "  <tbody>\n",
       "    <tr>\n",
       "      <th>0</th>\n",
       "      <td>68</td>\n",
       "      <td>21.1</td>\n",
       "      <td>9</td>\n",
       "      <td>14.5</td>\n",
       "      <td>35</td>\n",
       "      <td>1.537654</td>\n",
       "    </tr>\n",
       "    <tr>\n",
       "      <th>1</th>\n",
       "      <td>53</td>\n",
       "      <td>14.9</td>\n",
       "      <td>5</td>\n",
       "      <td>14.0</td>\n",
       "      <td>30</td>\n",
       "      <td>0.826655</td>\n",
       "    </tr>\n",
       "    <tr>\n",
       "      <th>2</th>\n",
       "      <td>41</td>\n",
       "      <td>20.5</td>\n",
       "      <td>6</td>\n",
       "      <td>17.7</td>\n",
       "      <td>34</td>\n",
       "      <td>0.257856</td>\n",
       "    </tr>\n",
       "    <tr>\n",
       "      <th>3</th>\n",
       "      <td>3</td>\n",
       "      <td>19.4</td>\n",
       "      <td>1</td>\n",
       "      <td>13.7</td>\n",
       "      <td>29</td>\n",
       "      <td>-1.543342</td>\n",
       "    </tr>\n",
       "    <tr>\n",
       "      <th>4</th>\n",
       "      <td>4</td>\n",
       "      <td>24.9</td>\n",
       "      <td>4</td>\n",
       "      <td>18.4</td>\n",
       "      <td>30</td>\n",
       "      <td>-1.495942</td>\n",
       "    </tr>\n",
       "  </tbody>\n",
       "</table>\n",
       "</div>"
      ],
      "text/plain": [
       "   month_old_when_trained  mean_rescues_per_year  age_last_year  \\\n",
       "0                      68                   21.1              9   \n",
       "1                      53                   14.9              5   \n",
       "2                      41                   20.5              6   \n",
       "3                       3                   19.4              1   \n",
       "4                       4                   24.9              4   \n",
       "\n",
       "   weight_last_year  rescues_last_year  standardized_age_when_trained  \n",
       "0              14.5                 35                       1.537654  \n",
       "1              14.0                 30                       0.826655  \n",
       "2              17.7                 34                       0.257856  \n",
       "3              13.7                 29                      -1.543342  \n",
       "4              18.4                 30                      -1.495942  "
      ]
     },
     "execution_count": 52,
     "metadata": {},
     "output_type": "execute_result"
    }
   ],
   "source": [
    "# Add the standardized verions of \"age_when_trained\" to the dataset.\n",
    "# Notice that it \"centers\" the mean age around 0\n",
    "data[\"standardized_age_when_trained\"] = (data.month_old_when_trained - numpy.mean(data.month_old_when_trained)) / (numpy.std(data.month_old_when_trained))\n",
    "\n",
    "# Print a sample of the new dataset\n",
    "data[:5]"
   ]
  },
  {
   "attachments": {},
   "cell_type": "markdown",
   "metadata": {},
   "source": [
    "Observe que los valores de la columna edad_estandarizada_cuando_se_entrenó se distribuyen en un rango mucho más pequeño (entre -2 y 2) y tienen su media centrada en 0.\n",
    "\n",
    "Visualización de características escaladas\n",
    "Utilicemos un diagrama de cajas para comparar los valores originales de las características con sus versiones estandarizadas:\n"
   ]
  },
  {
   "cell_type": "code",
   "execution_count": 53,
   "metadata": {},
   "outputs": [
    {
     "data": {
      "application/vnd.plotly.v1+json": {
       "config": {
        "plotlyServerURL": "https://plot.ly"
       },
       "data": [
        {
         "alignmentgroup": "True",
         "hovertemplate": "variable=%{x}<br>value=%{y}<extra></extra>",
         "legendgroup": "",
         "marker": {
          "color": "#636efa"
         },
         "name": "",
         "notched": false,
         "offsetgroup": "",
         "orientation": "v",
         "showlegend": false,
         "type": "box",
         "x": [
          "month_old_when_trained",
          "month_old_when_trained",
          "month_old_when_trained",
          "month_old_when_trained",
          "month_old_when_trained",
          "month_old_when_trained",
          "month_old_when_trained",
          "month_old_when_trained",
          "month_old_when_trained",
          "month_old_when_trained",
          "month_old_when_trained",
          "month_old_when_trained",
          "month_old_when_trained",
          "month_old_when_trained",
          "month_old_when_trained",
          "month_old_when_trained",
          "month_old_when_trained",
          "month_old_when_trained",
          "month_old_when_trained",
          "month_old_when_trained",
          "month_old_when_trained",
          "month_old_when_trained",
          "month_old_when_trained",
          "month_old_when_trained",
          "month_old_when_trained",
          "month_old_when_trained",
          "month_old_when_trained",
          "month_old_when_trained",
          "month_old_when_trained",
          "month_old_when_trained",
          "month_old_when_trained",
          "month_old_when_trained",
          "month_old_when_trained",
          "month_old_when_trained",
          "month_old_when_trained",
          "month_old_when_trained",
          "month_old_when_trained",
          "month_old_when_trained",
          "month_old_when_trained",
          "month_old_when_trained",
          "month_old_when_trained",
          "month_old_when_trained",
          "month_old_when_trained",
          "month_old_when_trained",
          "month_old_when_trained",
          "month_old_when_trained",
          "month_old_when_trained",
          "month_old_when_trained",
          "month_old_when_trained",
          "month_old_when_trained",
          "standardized_age_when_trained",
          "standardized_age_when_trained",
          "standardized_age_when_trained",
          "standardized_age_when_trained",
          "standardized_age_when_trained",
          "standardized_age_when_trained",
          "standardized_age_when_trained",
          "standardized_age_when_trained",
          "standardized_age_when_trained",
          "standardized_age_when_trained",
          "standardized_age_when_trained",
          "standardized_age_when_trained",
          "standardized_age_when_trained",
          "standardized_age_when_trained",
          "standardized_age_when_trained",
          "standardized_age_when_trained",
          "standardized_age_when_trained",
          "standardized_age_when_trained",
          "standardized_age_when_trained",
          "standardized_age_when_trained",
          "standardized_age_when_trained",
          "standardized_age_when_trained",
          "standardized_age_when_trained",
          "standardized_age_when_trained",
          "standardized_age_when_trained",
          "standardized_age_when_trained",
          "standardized_age_when_trained",
          "standardized_age_when_trained",
          "standardized_age_when_trained",
          "standardized_age_when_trained",
          "standardized_age_when_trained",
          "standardized_age_when_trained",
          "standardized_age_when_trained",
          "standardized_age_when_trained",
          "standardized_age_when_trained",
          "standardized_age_when_trained",
          "standardized_age_when_trained",
          "standardized_age_when_trained",
          "standardized_age_when_trained",
          "standardized_age_when_trained",
          "standardized_age_when_trained",
          "standardized_age_when_trained",
          "standardized_age_when_trained",
          "standardized_age_when_trained",
          "standardized_age_when_trained",
          "standardized_age_when_trained",
          "standardized_age_when_trained",
          "standardized_age_when_trained",
          "standardized_age_when_trained",
          "standardized_age_when_trained"
         ],
         "x0": " ",
         "xaxis": "x",
         "y": [
          68,
          53,
          41,
          3,
          4,
          50,
          12,
          63,
          43,
          36,
          36,
          14,
          26,
          50,
          51,
          35,
          38,
          52,
          58,
          9,
          23,
          34,
          26,
          29,
          57,
          6,
          1,
          68,
          18,
          9,
          71,
          18,
          70,
          55,
          35,
          47,
          21,
          20,
          7,
          17,
          71,
          65,
          62,
          44,
          61,
          23,
          29,
          7,
          19,
          23,
          1.5376542162729387,
          0.8266550410542556,
          0.257855700879309,
          -1.5433422096746885,
          -1.4959422646601095,
          0.6844552060105189,
          -1.1167427045434786,
          1.3006544912000444,
          0.35265559090846677,
          0.0208559758064146,
          0.0208559758064146,
          -1.0219428145143208,
          -0.4531434743393742,
          0.6844552060105189,
          0.7318551510250978,
          -0.02654396920816428,
          0.11565586583557236,
          0.7792550960396767,
          1.06365476612715,
          -1.2589425395872151,
          -0.5953433093831109,
          -0.07394391422274316,
          -0.4531434743393742,
          -0.31094363929563756,
          1.016254821112571,
          -1.4011423746309517,
          -1.6381420997038463,
          1.5376542162729387,
          -0.8323430344560052,
          -1.2589425395872151,
          1.6798540513166753,
          -0.8323430344560052,
          1.6324541063020965,
          0.9214549310834134,
          -0.02654396920816428,
          0.5422553709667823,
          -0.6901431994122686,
          -0.7375431444268475,
          -1.353742429616373,
          -0.8797429794705841,
          1.6798540513166753,
          1.3954543812292022,
          1.2532545461854654,
          0.40005553592304566,
          1.2058546011708866,
          -0.5953433093831109,
          -0.31094363929563756,
          -1.353742429616373,
          -0.7849430894414263,
          -0.5953433093831109
         ],
         "y0": " ",
         "yaxis": "y"
        }
       ],
       "layout": {
        "boxmode": "group",
        "legend": {
         "tracegroupgap": 0
        },
        "margin": {
         "t": 60
        },
        "template": {
         "data": {
          "bar": [
           {
            "error_x": {
             "color": "#2a3f5f"
            },
            "error_y": {
             "color": "#2a3f5f"
            },
            "marker": {
             "line": {
              "color": "#E5ECF6",
              "width": 0.5
             },
             "pattern": {
              "fillmode": "overlay",
              "size": 10,
              "solidity": 0.2
             }
            },
            "type": "bar"
           }
          ],
          "barpolar": [
           {
            "marker": {
             "line": {
              "color": "#E5ECF6",
              "width": 0.5
             },
             "pattern": {
              "fillmode": "overlay",
              "size": 10,
              "solidity": 0.2
             }
            },
            "type": "barpolar"
           }
          ],
          "carpet": [
           {
            "aaxis": {
             "endlinecolor": "#2a3f5f",
             "gridcolor": "white",
             "linecolor": "white",
             "minorgridcolor": "white",
             "startlinecolor": "#2a3f5f"
            },
            "baxis": {
             "endlinecolor": "#2a3f5f",
             "gridcolor": "white",
             "linecolor": "white",
             "minorgridcolor": "white",
             "startlinecolor": "#2a3f5f"
            },
            "type": "carpet"
           }
          ],
          "choropleth": [
           {
            "colorbar": {
             "outlinewidth": 0,
             "ticks": ""
            },
            "type": "choropleth"
           }
          ],
          "contour": [
           {
            "colorbar": {
             "outlinewidth": 0,
             "ticks": ""
            },
            "colorscale": [
             [
              0,
              "#0d0887"
             ],
             [
              0.1111111111111111,
              "#46039f"
             ],
             [
              0.2222222222222222,
              "#7201a8"
             ],
             [
              0.3333333333333333,
              "#9c179e"
             ],
             [
              0.4444444444444444,
              "#bd3786"
             ],
             [
              0.5555555555555556,
              "#d8576b"
             ],
             [
              0.6666666666666666,
              "#ed7953"
             ],
             [
              0.7777777777777778,
              "#fb9f3a"
             ],
             [
              0.8888888888888888,
              "#fdca26"
             ],
             [
              1,
              "#f0f921"
             ]
            ],
            "type": "contour"
           }
          ],
          "contourcarpet": [
           {
            "colorbar": {
             "outlinewidth": 0,
             "ticks": ""
            },
            "type": "contourcarpet"
           }
          ],
          "heatmap": [
           {
            "colorbar": {
             "outlinewidth": 0,
             "ticks": ""
            },
            "colorscale": [
             [
              0,
              "#0d0887"
             ],
             [
              0.1111111111111111,
              "#46039f"
             ],
             [
              0.2222222222222222,
              "#7201a8"
             ],
             [
              0.3333333333333333,
              "#9c179e"
             ],
             [
              0.4444444444444444,
              "#bd3786"
             ],
             [
              0.5555555555555556,
              "#d8576b"
             ],
             [
              0.6666666666666666,
              "#ed7953"
             ],
             [
              0.7777777777777778,
              "#fb9f3a"
             ],
             [
              0.8888888888888888,
              "#fdca26"
             ],
             [
              1,
              "#f0f921"
             ]
            ],
            "type": "heatmap"
           }
          ],
          "heatmapgl": [
           {
            "colorbar": {
             "outlinewidth": 0,
             "ticks": ""
            },
            "colorscale": [
             [
              0,
              "#0d0887"
             ],
             [
              0.1111111111111111,
              "#46039f"
             ],
             [
              0.2222222222222222,
              "#7201a8"
             ],
             [
              0.3333333333333333,
              "#9c179e"
             ],
             [
              0.4444444444444444,
              "#bd3786"
             ],
             [
              0.5555555555555556,
              "#d8576b"
             ],
             [
              0.6666666666666666,
              "#ed7953"
             ],
             [
              0.7777777777777778,
              "#fb9f3a"
             ],
             [
              0.8888888888888888,
              "#fdca26"
             ],
             [
              1,
              "#f0f921"
             ]
            ],
            "type": "heatmapgl"
           }
          ],
          "histogram": [
           {
            "marker": {
             "pattern": {
              "fillmode": "overlay",
              "size": 10,
              "solidity": 0.2
             }
            },
            "type": "histogram"
           }
          ],
          "histogram2d": [
           {
            "colorbar": {
             "outlinewidth": 0,
             "ticks": ""
            },
            "colorscale": [
             [
              0,
              "#0d0887"
             ],
             [
              0.1111111111111111,
              "#46039f"
             ],
             [
              0.2222222222222222,
              "#7201a8"
             ],
             [
              0.3333333333333333,
              "#9c179e"
             ],
             [
              0.4444444444444444,
              "#bd3786"
             ],
             [
              0.5555555555555556,
              "#d8576b"
             ],
             [
              0.6666666666666666,
              "#ed7953"
             ],
             [
              0.7777777777777778,
              "#fb9f3a"
             ],
             [
              0.8888888888888888,
              "#fdca26"
             ],
             [
              1,
              "#f0f921"
             ]
            ],
            "type": "histogram2d"
           }
          ],
          "histogram2dcontour": [
           {
            "colorbar": {
             "outlinewidth": 0,
             "ticks": ""
            },
            "colorscale": [
             [
              0,
              "#0d0887"
             ],
             [
              0.1111111111111111,
              "#46039f"
             ],
             [
              0.2222222222222222,
              "#7201a8"
             ],
             [
              0.3333333333333333,
              "#9c179e"
             ],
             [
              0.4444444444444444,
              "#bd3786"
             ],
             [
              0.5555555555555556,
              "#d8576b"
             ],
             [
              0.6666666666666666,
              "#ed7953"
             ],
             [
              0.7777777777777778,
              "#fb9f3a"
             ],
             [
              0.8888888888888888,
              "#fdca26"
             ],
             [
              1,
              "#f0f921"
             ]
            ],
            "type": "histogram2dcontour"
           }
          ],
          "mesh3d": [
           {
            "colorbar": {
             "outlinewidth": 0,
             "ticks": ""
            },
            "type": "mesh3d"
           }
          ],
          "parcoords": [
           {
            "line": {
             "colorbar": {
              "outlinewidth": 0,
              "ticks": ""
             }
            },
            "type": "parcoords"
           }
          ],
          "pie": [
           {
            "automargin": true,
            "type": "pie"
           }
          ],
          "scatter": [
           {
            "fillpattern": {
             "fillmode": "overlay",
             "size": 10,
             "solidity": 0.2
            },
            "type": "scatter"
           }
          ],
          "scatter3d": [
           {
            "line": {
             "colorbar": {
              "outlinewidth": 0,
              "ticks": ""
             }
            },
            "marker": {
             "colorbar": {
              "outlinewidth": 0,
              "ticks": ""
             }
            },
            "type": "scatter3d"
           }
          ],
          "scattercarpet": [
           {
            "marker": {
             "colorbar": {
              "outlinewidth": 0,
              "ticks": ""
             }
            },
            "type": "scattercarpet"
           }
          ],
          "scattergeo": [
           {
            "marker": {
             "colorbar": {
              "outlinewidth": 0,
              "ticks": ""
             }
            },
            "type": "scattergeo"
           }
          ],
          "scattergl": [
           {
            "marker": {
             "colorbar": {
              "outlinewidth": 0,
              "ticks": ""
             }
            },
            "type": "scattergl"
           }
          ],
          "scattermapbox": [
           {
            "marker": {
             "colorbar": {
              "outlinewidth": 0,
              "ticks": ""
             }
            },
            "type": "scattermapbox"
           }
          ],
          "scatterpolar": [
           {
            "marker": {
             "colorbar": {
              "outlinewidth": 0,
              "ticks": ""
             }
            },
            "type": "scatterpolar"
           }
          ],
          "scatterpolargl": [
           {
            "marker": {
             "colorbar": {
              "outlinewidth": 0,
              "ticks": ""
             }
            },
            "type": "scatterpolargl"
           }
          ],
          "scatterternary": [
           {
            "marker": {
             "colorbar": {
              "outlinewidth": 0,
              "ticks": ""
             }
            },
            "type": "scatterternary"
           }
          ],
          "surface": [
           {
            "colorbar": {
             "outlinewidth": 0,
             "ticks": ""
            },
            "colorscale": [
             [
              0,
              "#0d0887"
             ],
             [
              0.1111111111111111,
              "#46039f"
             ],
             [
              0.2222222222222222,
              "#7201a8"
             ],
             [
              0.3333333333333333,
              "#9c179e"
             ],
             [
              0.4444444444444444,
              "#bd3786"
             ],
             [
              0.5555555555555556,
              "#d8576b"
             ],
             [
              0.6666666666666666,
              "#ed7953"
             ],
             [
              0.7777777777777778,
              "#fb9f3a"
             ],
             [
              0.8888888888888888,
              "#fdca26"
             ],
             [
              1,
              "#f0f921"
             ]
            ],
            "type": "surface"
           }
          ],
          "table": [
           {
            "cells": {
             "fill": {
              "color": "#EBF0F8"
             },
             "line": {
              "color": "white"
             }
            },
            "header": {
             "fill": {
              "color": "#C8D4E3"
             },
             "line": {
              "color": "white"
             }
            },
            "type": "table"
           }
          ]
         },
         "layout": {
          "annotationdefaults": {
           "arrowcolor": "#2a3f5f",
           "arrowhead": 0,
           "arrowwidth": 1
          },
          "autotypenumbers": "strict",
          "coloraxis": {
           "colorbar": {
            "outlinewidth": 0,
            "ticks": ""
           }
          },
          "colorscale": {
           "diverging": [
            [
             0,
             "#8e0152"
            ],
            [
             0.1,
             "#c51b7d"
            ],
            [
             0.2,
             "#de77ae"
            ],
            [
             0.3,
             "#f1b6da"
            ],
            [
             0.4,
             "#fde0ef"
            ],
            [
             0.5,
             "#f7f7f7"
            ],
            [
             0.6,
             "#e6f5d0"
            ],
            [
             0.7,
             "#b8e186"
            ],
            [
             0.8,
             "#7fbc41"
            ],
            [
             0.9,
             "#4d9221"
            ],
            [
             1,
             "#276419"
            ]
           ],
           "sequential": [
            [
             0,
             "#0d0887"
            ],
            [
             0.1111111111111111,
             "#46039f"
            ],
            [
             0.2222222222222222,
             "#7201a8"
            ],
            [
             0.3333333333333333,
             "#9c179e"
            ],
            [
             0.4444444444444444,
             "#bd3786"
            ],
            [
             0.5555555555555556,
             "#d8576b"
            ],
            [
             0.6666666666666666,
             "#ed7953"
            ],
            [
             0.7777777777777778,
             "#fb9f3a"
            ],
            [
             0.8888888888888888,
             "#fdca26"
            ],
            [
             1,
             "#f0f921"
            ]
           ],
           "sequentialminus": [
            [
             0,
             "#0d0887"
            ],
            [
             0.1111111111111111,
             "#46039f"
            ],
            [
             0.2222222222222222,
             "#7201a8"
            ],
            [
             0.3333333333333333,
             "#9c179e"
            ],
            [
             0.4444444444444444,
             "#bd3786"
            ],
            [
             0.5555555555555556,
             "#d8576b"
            ],
            [
             0.6666666666666666,
             "#ed7953"
            ],
            [
             0.7777777777777778,
             "#fb9f3a"
            ],
            [
             0.8888888888888888,
             "#fdca26"
            ],
            [
             1,
             "#f0f921"
            ]
           ]
          },
          "colorway": [
           "#636efa",
           "#EF553B",
           "#00cc96",
           "#ab63fa",
           "#FFA15A",
           "#19d3f3",
           "#FF6692",
           "#B6E880",
           "#FF97FF",
           "#FECB52"
          ],
          "font": {
           "color": "#2a3f5f"
          },
          "geo": {
           "bgcolor": "white",
           "lakecolor": "white",
           "landcolor": "#E5ECF6",
           "showlakes": true,
           "showland": true,
           "subunitcolor": "white"
          },
          "hoverlabel": {
           "align": "left"
          },
          "hovermode": "closest",
          "mapbox": {
           "style": "light"
          },
          "paper_bgcolor": "white",
          "plot_bgcolor": "#E5ECF6",
          "polar": {
           "angularaxis": {
            "gridcolor": "white",
            "linecolor": "white",
            "ticks": ""
           },
           "bgcolor": "#E5ECF6",
           "radialaxis": {
            "gridcolor": "white",
            "linecolor": "white",
            "ticks": ""
           }
          },
          "scene": {
           "xaxis": {
            "backgroundcolor": "#E5ECF6",
            "gridcolor": "white",
            "gridwidth": 2,
            "linecolor": "white",
            "showbackground": true,
            "ticks": "",
            "zerolinecolor": "white"
           },
           "yaxis": {
            "backgroundcolor": "#E5ECF6",
            "gridcolor": "white",
            "gridwidth": 2,
            "linecolor": "white",
            "showbackground": true,
            "ticks": "",
            "zerolinecolor": "white"
           },
           "zaxis": {
            "backgroundcolor": "#E5ECF6",
            "gridcolor": "white",
            "gridwidth": 2,
            "linecolor": "white",
            "showbackground": true,
            "ticks": "",
            "zerolinecolor": "white"
           }
          },
          "shapedefaults": {
           "line": {
            "color": "#2a3f5f"
           }
          },
          "ternary": {
           "aaxis": {
            "gridcolor": "white",
            "linecolor": "white",
            "ticks": ""
           },
           "baxis": {
            "gridcolor": "white",
            "linecolor": "white",
            "ticks": ""
           },
           "bgcolor": "#E5ECF6",
           "caxis": {
            "gridcolor": "white",
            "linecolor": "white",
            "ticks": ""
           }
          },
          "title": {
           "x": 0.05
          },
          "xaxis": {
           "automargin": true,
           "gridcolor": "white",
           "linecolor": "white",
           "ticks": "",
           "title": {
            "standoff": 15
           },
           "zerolinecolor": "white",
           "zerolinewidth": 2
          },
          "yaxis": {
           "automargin": true,
           "gridcolor": "white",
           "linecolor": "white",
           "ticks": "",
           "title": {
            "standoff": 15
           },
           "zerolinecolor": "white",
           "zerolinewidth": 2
          }
         }
        },
        "xaxis": {
         "anchor": "y",
         "domain": [
          0,
          1
         ],
         "title": {
          "text": "variable"
         }
        },
        "yaxis": {
         "anchor": "x",
         "domain": [
          0,
          1
         ],
         "title": {
          "text": "value"
         }
        }
       }
      }
     },
     "metadata": {},
     "output_type": "display_data"
    }
   ],
   "source": [
    "from plotly.subplots import make_subplots\n",
    "import plotly.graph_objects as go\n",
    "import plotly.express as px\n",
    "\n",
    "fig = px.box(data,y=[\"month_old_when_trained\", \"standardized_age_when_trained\"])\n",
    "fig.show()"
   ]
  },
  {
   "attachments": {},
   "cell_type": "markdown",
   "metadata": {},
   "source": [
    "Ahora compara las dos características pasando el ratón por encima del gráfico. Verá que\n",
    "\n",
    "month_old_when_trained oscila entre 1 y 71 y tiene su mediana centrada en 35.\n",
    "\n",
    "edad_estandarizada_cuando_se_entrenó oscila entre -1,6381 y 1,6798, y está centrada exactamente en 0.\n",
    "\n",
    "Entrenamiento con características estandarizadas\n",
    "Ahora podemos volver a entrenar nuestro modelo utilizando las características estandarizadas de nuestro conjunto de datos:\n"
   ]
  },
  {
   "cell_type": "code",
   "execution_count": 54,
   "metadata": {},
   "outputs": [
    {
     "name": "stdout",
     "output_type": "stream",
     "text": [
      "Iteration 0  Current estimate: y = -0.002469271695567481 * x + 0.01989 Cost: 409.47558290398973\n",
      "Iteration 100  Current estimate: y = -0.23732823396711047 * x + 1.9116805097144178 Cost: 336.7707406040323\n",
      "Iteration 200  Current estimate: y = -0.4498267787096775 * x + 3.623357706888266 Cost: 277.25100655774355\n",
      "Iteration 300  Current estimate: y = -0.6420937932658433 * x + 5.172069793284766 Cost: 228.52524594986943\n",
      "Iteration 400  Current estimate: y = -0.8160554781852589 * x + 6.573332327196407 Cost: 188.63595906277715\n",
      "Iteration 500  Current estimate: y = -0.9734546445990158 * x + 7.841183663924317 Cost: 155.98064104392154\n",
      "Iteration 600  Current estimate: y = -1.1158681743324268 * x + 8.988325597103357 Cost: 129.24740317153262\n",
      "Iteration 700  Current estimate: y = -1.2447228176779617 * x + 10.026250609868582 Cost: 107.3622692791277\n",
      "Iteration 800  Current estimate: y = -1.3613094870961393 * x + 10.965357010711452 Cost: 89.44603003512722\n",
      "Iteration 900  Current estimate: y = -1.4667961900438484 * x + 11.8150531074983 Cost: 74.77892174936702\n",
      "Iteration 1000  Current estimate: y = -1.5622397304958524 * x + 12.583851463304212 Cost: 62.77171071939301\n",
      "Iteration 1100  Current estimate: y = -1.648596296389555 * x + 13.279454178351335 Cost: 52.94202146440177\n",
      "Iteration 1200  Current estimate: y = -1.7267310390618837 * x + 13.908830052436938 Cost: 44.89495786166459\n",
      "Iteration 1300  Current estimate: y = -1.7974267406485578 * x + 14.478284400892429 Cost: 38.30723866254353\n",
      "Iteration 1400  Current estimate: y = -1.8613916562788748 * x + 14.993522223514702 Cost: 32.91421005124923\n",
      "Iteration 1500  Current estimate: y = -1.9192666096319775 * x + 15.459705359319308 Cost: 28.49921349126829\n",
      "Iteration 1600  Current estimate: y = -1.9716314129404362 * x + 15.88150419971215 Cost: 24.884881725287755\n",
      "Iteration 1700  Current estimate: y = -2.019010675759084 * x + 16.263144478161262 Cost: 21.92601325572035\n",
      "Iteration 1800  Current estimate: y = -2.0618790606934327 * x + 16.608449605124303 Cost: 19.503739046527773\n",
      "Iteration 1900  Current estimate: y = -2.100666038741482 * x + 16.920878972358576 Cost: 17.520747100495903\n",
      "Iteration 2000  Current estimate: y = -2.135760191889627 * x + 17.203562610359846 Cost: 15.897373065011378\n",
      "Iteration 2100  Current estimate: y = -2.1675131060676733 * x + 17.459332546140928 Cost: 14.568399811055967\n",
      "Iteration 2200  Current estimate: y = -2.1962428934639444 * x + 17.69075117550343 Cost: 13.480437412296949\n",
      "Iteration 2300  Current estimate: y = -2.2222373794883374 * x + 17.90013693404643 Cost: 12.589778268036145\n",
      "Iteration 2400  Current estimate: y = -2.245756986311467 * x + 18.089587524093606 Cost: 11.860641202122501\n",
      "Iteration 2500  Current estimate: y = -2.2670373418682375 * x + 18.26100093023434 Cost: 11.263733996582848\n",
      "Iteration 2600  Current estimate: y = -2.2862916404637894 * x + 18.41609443402049 Cost: 10.775076611460438\n",
      "Iteration 2700  Current estimate: y = -2.3037127786312275 * x + 18.55642181831455 Cost: 10.375037815113883\n",
      "Iteration 2800  Current estimate: y = -2.319475287638908 * x + 18.683388933648818 Cost: 10.04754652273875\n",
      "Iteration 2900  Current estimate: y = -2.3337370820078647 * x + 18.798267782544944 Cost: 9.779446159571398\n",
      "Iteration 3000  Current estimate: y = -2.3466410415566474 * x + 18.902209262895628 Cost: 9.559966111081634\n",
      "Iteration 3100  Current estimate: y = -2.3583164428230607 * x + 18.996254698076292 Cost: 9.380289026291589\n",
      "Iteration 3200  Current estimate: y = -2.368880254203313 * x + 19.081346269299672 Cost: 9.233196591144043\n",
      "Iteration 3300  Current estimate: y = -2.378438307783756 * x + 19.158336454728143 Cost: 9.112779541285361\n",
      "Iteration 3400  Current estimate: y = -2.3870863596050333 * x + 19.22799656990864 Cost: 9.014200264369299\n",
      "Iteration 3500  Current estimate: y = -2.3949110489807546 * x + 19.291024495090983 Cost: 8.93349845471112\n",
      "Iteration 3600  Current estimate: y = -2.401990766481511 * x + 19.34805166684485 Cost: 8.867432012697625\n",
      "Iteration 3700  Current estimate: y = -2.4083964392799797 * x + 19.399649404019865 Cost: 8.813346797275454\n",
      "Iteration 3800  Current estimate: y = -2.4141922417250155 * x + 19.44633463142465 Cost: 8.769069998977995\n",
      "Iteration 3900  Current estimate: y = -2.419436238263504 * x + 19.488575058566685 Cost: 8.73282284987875\n",
      "Iteration 4000  Current estimate: y = -2.424180965151019 * x + 19.526793865335563 Cost: 8.703149163696683\n",
      "Iteration 4100  Current estimate: y = -2.428473956779045 * x + 19.56137394157209 Cost: 8.678856835237426\n",
      "Iteration 4200  Current estimate: y = -2.4323582218917084 * x + 19.592661722997484 Cost: 8.658969948978951\n",
      "Iteration 4300  Current estimate: y = -2.4358726744629524 * x + 19.620970661931807 Cost: 8.642689572821464\n",
      "Iteration 4400  Current estimate: y = -2.4390525235508185 * x + 19.646584367572686 Cost: 8.629361661936676\n",
      "Iteration 4500  Current estimate: y = -2.4419296260345265 * x + 19.669759447295053 Cost: 8.618450783291436\n",
      "Iteration 4600  Current estimate: y = -2.444532805768227 * x + 19.690728077436592 Cost: 8.609518605259927\n",
      "Iteration 4700  Current estimate: y = -2.4468881423488047 * x + 19.709700329324388 Cost: 8.60220628816974\n",
      "Iteration 4800  Current estimate: y = -2.449019232390721 * x + 19.72686627384553 Cost: 8.59622006834308\n",
      "Iteration 4900  Current estimate: y = -2.450947425925441 * x + 19.742397885646056 Cost: 8.591319456488982\n",
      "Iteration 5000  Current estimate: y = -2.4526920402937717 * x + 19.756450766035165 Cost: 8.5873075763309\n",
      "Iteration 5100  Current estimate: y = -2.4542705536739753 * x + 19.769165701855563 Cost: 8.584023255335477\n",
      "Iteration 5200  Current estimate: y = -2.4556987801844965 * x + 19.780670075936904 Cost: 8.581334549796948\n",
      "Iteration 5300  Current estimate: y = -2.4569910283155174 * x + 19.791079143263175 Cost: 8.579133444155014\n",
      "Iteration 5400  Current estimate: y = -2.4581602442765864 * x + 19.800497185638758 Cost: 8.577331511597684\n",
      "Iteration 5500  Current estimate: y = -2.4592181416964425 * x + 19.80901855642137 Cost: 8.575856361618827\n",
      "Iteration 5600  Current estimate: y = -2.4601753189743794 * x + 19.816728625788134 Cost: 8.57464873181533\n",
      "Iteration 5700  Current estimate: y = -2.461041365458852 * x + 19.82370463600485 Cost: 8.573660107090257\n",
      "Model training complete after 5700 iterations\n"
     ]
    }
   ],
   "source": [
    "# Let's retrain our model, this time using the standardized feature\n",
    "model_norm = gradient_descent(data.standardized_age_when_trained, data.mean_rescues_per_year, learning_rate=5E-4, number_of_iterations=8000)"
   ]
  },
  {
   "attachments": {},
   "cell_type": "markdown",
   "metadata": {},
   "source": [
    "Veamos de nuevo el resultado.\n",
    "\n",
    "A pesar de que todavía se le permite un máximo de 8000 iteraciones, el modelo se detuvo en la marca 5700.\n",
    "\n",
    "¿Por qué? Porque esta vez, utilizando la función estandarizada, pudo alcanzar rápidamente un punto en el que ya no se podía mejorar el coste.\n",
    "\n",
    "En otras palabras, \"convergió\" mucho más rápido que la versión anterior.\n",
    "\n",
    "Trazado del modelo normalizado\n",
    "Ahora podemos trazar el nuevo modelo y ver los resultados de la normalización:\n"
   ]
  },
  {
   "cell_type": "code",
   "execution_count": 4,
   "metadata": {},
   "outputs": [],
   "source": [
    "from PIL import Image\n",
    "imagen = Image.open('2.png')\n",
    "imagen.show()\n",
    "# Plot the data and trendline again, after training with standardized feature\n",
    "#graphing.scatter_2D(data, \"standardized_age_when_trained\", \"mean_rescues_per_year\", trendline=model_norm.predict)"
   ]
  },
  {
   "attachments": {},
   "cell_type": "markdown",
   "metadata": {},
   "source": [
    "Parece que este modelo se ajusta a los datos mucho mejor que el primero.\n",
    "\n",
    "El modelo estandarizado muestra una mayor pendiente y los datos están ahora centrados en 0 en el eje X, factores ambos que deberían permitir que el modelo convergiera más rápidamente.\n",
    "\n",
    "¿Pero cuánto más rápido?\n",
    "\n",
    "Hagamos una comparación entre modelos para visualizar las mejoras.\n"
   ]
  },
  {
   "cell_type": "code",
   "execution_count": null,
   "metadata": {},
   "outputs": [],
   "source": [
    "from PIL import Image\n",
    "imagen = Image.open('newplot.png')\n",
    "imagen.show()\n",
    "\n",
    "cost1 = model.cost_history\n",
    "cost2 = model_norm.cost_history\n",
    "\n",
    "# Creates dataframes with the cost history for each model\n",
    "df1 = pandas.DataFrame({\"cost\": cost1, \"Model\":\"No feature scaling\"})\n",
    "df1[\"number of iterations\"] = df1.index + 1\n",
    "df2 = pandas.DataFrame({\"cost\": cost2, \"Model\":\"With feature scaling\"})\n",
    "df2[\"number of iterations\"] = df2.index + 1\n",
    "\n",
    "# Concatenate dataframes into a single one that we can use in our plot\n",
    "df = pandas.concat([df1, df2])\n",
    "\n",
    "# Plot cost history for both models\n",
    "fig = graphing.scatter_2D(df, label_x=\"number of iterations\", label_y=\"cost\", title=\"Training Cost vs Iterations\", label_colour=\"Model\")\n",
    "fig.update_traces(mode='lines')\n",
    "fig.show()"
   ]
  },
  {
   "attachments": {},
   "cell_type": "markdown",
   "metadata": {},
   "source": [
    "Este gráfico muestra claramente que el uso de un conjunto de datos estandarizados permitió que nuestro modelo convergiera mucho más rápido. Alcanzar el coste más bajo y encontrar los pesos óptimos requirió un número mucho menor de iteraciones.\n",
    "\n",
    "Esto es muy importante cuando se está desarrollando un nuevo modelo, ya que permite iterar más rápido, pero también cuando el modelo se despliega en un entorno de producción, ya que requerirá menos tiempo de cálculo para el entrenamiento y costará menos que un modelo \"lento\".\n"
   ]
  },
  {
   "attachments": {},
   "cell_type": "markdown",
   "metadata": {},
   "source": [
    "Resumen\n",
    "En este ejercicio hemos tratado los siguientes conceptos:\n",
    "\n",
    "Las técnicas de scalaing de características se utilizan para mejorar la eficiencia de los modelos de entrenamiento\n",
    "Cómo añadir una característica normalizada a un conjunto de datos\n",
    "Cómo visualizar características estandarizadas y compararlas con sus valores originales\n",
    "Por último, hemos comparado el rendimiento de los modelos antes y después de utilizar características estandarizadas, utilizando gráficos para visualizar las mejoras.\n"
   ]
  }
 ],
 "metadata": {
  "kernelspec": {
   "display_name": "Python 3",
   "language": "python",
   "name": "python3"
  },
  "language_info": {
   "codemirror_mode": {
    "name": "ipython",
    "version": 3
   },
   "file_extension": ".py",
   "mimetype": "text/x-python",
   "name": "python",
   "nbconvert_exporter": "python",
   "pygments_lexer": "ipython3",
   "version": "3.9.7"
  },
  "orig_nbformat": 4
 },
 "nbformat": 4,
 "nbformat_minor": 2
}
